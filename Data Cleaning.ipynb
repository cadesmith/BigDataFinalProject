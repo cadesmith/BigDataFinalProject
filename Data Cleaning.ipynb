{
 "cells": [
  {
   "cell_type": "code",
   "execution_count": null,
   "id": "f00359d4",
   "metadata": {},
   "outputs": [],
   "source": [
    "import pandas as pd\n",
    "import ast"
   ]
  },
  {
   "cell_type": "code",
   "execution_count": null,
   "id": "5dc33519",
   "metadata": {},
   "outputs": [],
   "source": [
    "data = pd.read_csv(\"./Movie_Clean.csv\")"
   ]
  },
  {
   "cell_type": "code",
   "execution_count": null,
   "id": "544016ee",
   "metadata": {},
   "outputs": [],
   "source": [
    "print(data.shape)"
   ]
  },
  {
   "cell_type": "markdown",
   "id": "e35cf866",
   "metadata": {},
   "source": [
    "Genre Cleanup"
   ]
  },
  {
   "cell_type": "code",
   "execution_count": null,
   "id": "7d25a43e",
   "metadata": {},
   "outputs": [],
   "source": [
    "for idx in data.index:\n",
    "    item = ast.literal_eval(data.at[idx, 'genres'])\n",
    "    new_genres = []\n",
    "    for n in item:\n",
    "        new_genres.append(n['name'])\n",
    "    data.at[idx, 'genres'] = new_genres"
   ]
  },
  {
   "cell_type": "code",
   "execution_count": null,
   "id": "5a43ff65",
   "metadata": {},
   "outputs": [],
   "source": [
    "print(data['genres'][0])"
   ]
  },
  {
   "cell_type": "markdown",
   "id": "812f98f7",
   "metadata": {},
   "source": [
    "Production Company Cleanup"
   ]
  },
  {
   "cell_type": "code",
   "execution_count": null,
   "id": "b3b3da71",
   "metadata": {},
   "outputs": [],
   "source": [
    "for idx in data.index:\n",
    "    item = ast.literal_eval(data.at[idx, 'production_companies'])\n",
    "    new_prod = []\n",
    "    if not isinstance(data.at[idx, 'production_companies'], list):\n",
    "        for n in item:\n",
    "            new_prod.append(n['name'])\n",
    "        data.at[idx, 'genres'] = new_prod"
   ]
  },
  {
   "cell_type": "markdown",
   "id": "a1b0ec2f",
   "metadata": {},
   "source": [
    "Year/Date Cleanup"
   ]
  },
  {
   "cell_type": "code",
   "execution_count": null,
   "id": "061452bf",
   "metadata": {},
   "outputs": [],
   "source": [
    "for idx in data.index:\n",
    "    if not isinstance(data.at[idx, 'release_date'], list):\n",
    "        if data.at[idx, 'release_date'] != data.at[idx, 'release_date']:\n",
    "            data.at[idx, 'release_date'] = []\n",
    "        else:\n",
    "            date = data.at[idx, 'release_date'].split('-')\n",
    "            data.at[idx, 'release_date'] = date"
   ]
  },
  {
   "cell_type": "code",
   "execution_count": null,
   "id": "7648e65a",
   "metadata": {},
   "outputs": [],
   "source": [
    "data['release_date'][0]"
   ]
  },
  {
   "cell_type": "code",
   "execution_count": null,
   "id": "01173906",
   "metadata": {},
   "outputs": [],
   "source": [
    "data.to_csv(\"./Movie_Clean.csv\")"
   ]
  }
 ],
 "metadata": {
  "kernelspec": {
   "display_name": "Python 3 (ipykernel)",
   "language": "python",
   "name": "python3"
  },
  "language_info": {
   "codemirror_mode": {
    "name": "ipython",
    "version": 3
   },
   "file_extension": ".py",
   "mimetype": "text/x-python",
   "name": "python",
   "nbconvert_exporter": "python",
   "pygments_lexer": "ipython3",
   "version": "3.9.12"
  }
 },
 "nbformat": 4,
 "nbformat_minor": 5
}
