{
 "cells": [
  {
   "cell_type": "code",
   "execution_count": null,
   "id": "20a26edd",
   "metadata": {},
   "outputs": [],
   "source": [
    "data = pd.read_csv(\"./Movie_Clean.csv\")"
   ]
  },
  {
   "cell_type": "code",
   "execution_count": null,
   "id": "6968d21c",
   "metadata": {},
   "outputs": [],
   "source": [
    "import pandas as pd\n",
    "import numpy as np\n",
    "import matplotlib.pyplot as plt\n",
    "import seaborn as sns\n",
    "import wordcloud\n",
    "import ast\n",
    "import math\n",
    "import calplot\n",
    "\n",
    "from collections import Counter\n",
    "from os import path\n",
    "from wordcloud import WordCloud\n",
    "from nltk.tokenize import word_tokenize\n",
    "from nltk.corpus import stopwords\n",
    "import string"
   ]
  },
  {
   "cell_type": "markdown",
   "id": "4aafc310",
   "metadata": {},
   "source": [
    "Wordclouds for All Genres:"
   ]
  },
  {
   "cell_type": "code",
   "execution_count": null,
   "id": "9601342e",
   "metadata": {},
   "outputs": [],
   "source": [
    "nltk.download('stopwords')\n",
    "nltk.download('punkt')"
   ]
  },
  {
   "cell_type": "code",
   "execution_count": null,
   "id": "6f11f9a7",
   "metadata": {},
   "outputs": [],
   "source": [
    "overview_string = ' '.join(str(item) for item in data['overview'])"
   ]
  },
  {
   "cell_type": "code",
   "execution_count": null,
   "id": "e0b5dfec",
   "metadata": {},
   "outputs": [],
   "source": [
    "stop_words = set(stopwords.words('english'))"
   ]
  },
  {
   "cell_type": "code",
   "execution_count": null,
   "id": "cdcdd074",
   "metadata": {},
   "outputs": [],
   "source": [
    "def get_clean_words(text):\n",
    "    words = word_tokenize(text)\n",
    "    words = [w.lower() for w in words]\n",
    "    table = str.maketrans('', '', string.punctuation)\n",
    "    words = [w.translate(table) for w in words]\n",
    "    words = [w for w in words if w.isalpha()]\n",
    "    words = [w for w in words if not w in stop_words]\n",
    "    words = [w for w in words if len(w) > 1]\n",
    "    return words"
   ]
  },
  {
   "cell_type": "code",
   "execution_count": null,
   "id": "3268b6d7",
   "metadata": {},
   "outputs": [],
   "source": [
    "bow = get_clean_words(overview_string)"
   ]
  },
  {
   "cell_type": "code",
   "execution_count": null,
   "id": "c24465bf",
   "metadata": {},
   "outputs": [],
   "source": [
    "wcString2 = ' '.join(bow)\n",
    "wc = wordcloud.WordCloud(max_font_size=200, background_color = 'white', width = 2000, height = 1000).generate(wcString2)\n",
    "plt.figure(figsize=(20, 10))\n",
    "plt.imshow(wc, interpolation=\"bilinear\")\n",
    "plt.title(\"All Genres Overview WordCloud\")"
   ]
  },
  {
   "cell_type": "markdown",
   "id": "36f75f76",
   "metadata": {},
   "source": [
    "Wordclouds for Individual Genres:"
   ]
  },
  {
   "cell_type": "code",
   "execution_count": null,
   "id": "762a8376",
   "metadata": {},
   "outputs": [],
   "source": [
    "overview_dict = {}\n",
    "for idx in data.index:\n",
    "    genre_list = ast.literal_eval(data.at[idx, 'genres'])\n",
    "    over = data.at[idx, 'overview']\n",
    "    if over == over:\n",
    "        for n in genre_list:\n",
    "            if n in overview_dict:\n",
    "                overview_dict[n] = overview_dict[n] + ' ' + over\n",
    "            else:\n",
    "                overview_dict[n] = over"
   ]
  },
  {
   "cell_type": "code",
   "execution_count": null,
   "id": "8b712964",
   "metadata": {},
   "outputs": [],
   "source": [
    "for key, value in overview_dict.items():\n",
    "    value = get_clean_words(value)"
   ]
  },
  {
   "cell_type": "code",
   "execution_count": null,
   "id": "2d688207",
   "metadata": {},
   "outputs": [],
   "source": [
    "for key, value in overview_dict.items():\n",
    "    wc = wordcloud.WordCloud(max_font_size=200, background_color = 'white', width = 2000, height = 1000).generate(value)\n",
    "    plt.figure(figsize=(20, 10))\n",
    "    plt.imshow(wc, interpolation=\"bilinear\")\n",
    "    plt.title(\"Genre: %s\" % key)"
   ]
  },
  {
   "cell_type": "markdown",
   "id": "1225a53f",
   "metadata": {},
   "source": [
    "Sentiment Analysis based on Genre:"
   ]
  },
  {
   "cell_type": "code",
   "execution_count": null,
   "id": "624b6f03",
   "metadata": {},
   "outputs": [],
   "source": [
    "for key, value in overview_dict.items():\n",
    "    sia = SentimentIntensityAnalyzer()\n",
    "    print(key)\n",
    "    print(sia.polarity_scores(value))"
   ]
  },
  {
   "cell_type": "code",
   "execution_count": null,
   "id": "1e61c121",
   "metadata": {},
   "outputs": [],
   "source": [
    "overview_dict2 = {}\n",
    "for idx in data.index:\n",
    "    genre_list = ast.literal_eval(data.at[idx, 'genres'])\n",
    "    over = data.at[idx, 'overview']\n",
    "    if over == over:\n",
    "        for n in genre_list:\n",
    "            if n in overview_dict2:\n",
    "                overview_dict2[n].append(over)\n",
    "            else: \n",
    "                overview_dict2[n] = [over]sentiment_dict = {}"
   ]
  },
  {
   "cell_type": "code",
   "execution_count": null,
   "id": "63815253",
   "metadata": {},
   "outputs": [],
   "source": [
    "sentiment_dict = {}\n",
    "for key in overview_dict2.keys():\n",
    "    sentiment_dict[key + '_pos'] = []\n",
    "    sentiment_dict[key + '_neu'] = []\n",
    "    sentiment_dict[key + '_neg'] = []\n",
    "    for n in overview_dict2[key]:\n",
    "        scores = sia.polarity_scores(n)\n",
    "        sentiment_dict[key + '_pos'].append(scores['pos'])\n",
    "        sentiment_dict[key + '_neu'].append(scores['neu'])\n",
    "        sentiment_dict[key + '_neg'].append(scores['neg'])"
   ]
  },
  {
   "cell_type": "code",
   "execution_count": null,
   "id": "6ee9426d",
   "metadata": {},
   "outputs": [],
   "source": [
    "def sent_plot(color, name):\n",
    "    plt.hist(sentiment_dict[name], color = color, edgecolor = 'black')\n",
    "    avg = np.nanmean(sentiment_dict[name])\n",
    "    plt.axvline(x=avg, color='red', linestyle='--', linewidth=3, label='Average: ' + str(round(avg, 4)))\n",
    "    plt.legend()\n",
    "    plt.title(name + ' Sentiment Scores')\n",
    "    plt.savefig(name + '.png')\n",
    "    plt.clf()"
   ]
  },
  {
   "cell_type": "code",
   "execution_count": null,
   "id": "ad28d4d3",
   "metadata": {},
   "outputs": [],
   "source": [
    "for key in overview_dict2.keys():\n",
    "    name = key + '_pos'\n",
    "    sent_plot('green', name)\n",
    "    name = key + '_neu'\n",
    "    sent_plot('orange', name)\n",
    "    name = key + '_neg'\n",
    "    sent_plot('blue', name)"
   ]
  }
 ],
 "metadata": {
  "kernelspec": {
   "display_name": "Python 3 (ipykernel)",
   "language": "python",
   "name": "python3"
  },
  "language_info": {
   "codemirror_mode": {
    "name": "ipython",
    "version": 3
   },
   "file_extension": ".py",
   "mimetype": "text/x-python",
   "name": "python",
   "nbconvert_exporter": "python",
   "pygments_lexer": "ipython3",
   "version": "3.9.12"
  }
 },
 "nbformat": 4,
 "nbformat_minor": 5
}
