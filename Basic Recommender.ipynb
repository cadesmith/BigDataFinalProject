{
 "cells": [
  {
   "cell_type": "code",
   "execution_count": 1,
   "id": "9dbc4fc2",
   "metadata": {},
   "outputs": [],
   "source": [
    "import pandas as pd \n",
    "import numpy as np \n",
    "import ast\n",
    "from sklearn.feature_extraction.text import CountVectorizer\n",
    "from sklearn.metrics.pairwise import cosine_similarity"
   ]
  },
  {
   "cell_type": "code",
   "execution_count": 94,
   "id": "553b8802",
   "metadata": {},
   "outputs": [],
   "source": [
    "data = pd.read_csv(\"./Data_Clean.csv\", index_col=0)"
   ]
  },
  {
   "cell_type": "code",
   "execution_count": 95,
   "id": "ba305a80",
   "metadata": {},
   "outputs": [],
   "source": [
    "data = data.dropna()"
   ]
  },
  {
   "cell_type": "code",
   "execution_count": 96,
   "id": "2eb7beed",
   "metadata": {},
   "outputs": [],
   "source": [
    "data = data[data['vote_count'] > 300] "
   ]
  },
  {
   "cell_type": "code",
   "execution_count": 98,
   "id": "aef3076d",
   "metadata": {},
   "outputs": [],
   "source": [
    "data = data.reset_index(drop=True)"
   ]
  },
  {
   "cell_type": "code",
   "execution_count": 100,
   "id": "c6377f40",
   "metadata": {},
   "outputs": [],
   "source": [
    "for idx in data.index:\n",
    "    data.at[idx, 'director'] = ast.literal_eval(data.at[idx, 'director'])\n",
    "    data.at[idx, 'screenplay'] = ast.literal_eval(data.at[idx, 'screenplay'])\n",
    "    data.at[idx, 'genres'] = ast.literal_eval(data.at[idx, 'genres'])\n",
    "    data.at[idx, 'producer'] = ast.literal_eval(data.at[idx, 'producer'])"
   ]
  },
  {
   "cell_type": "code",
   "execution_count": 101,
   "id": "b474673a",
   "metadata": {},
   "outputs": [],
   "source": [
    "def replace_spaces(idx, category):\n",
    "    names = data.at[idx, category]\n",
    "    for idx in range(len(names)):\n",
    "        new = names[idx].replace(' ', '_')\n",
    "        names[idx] = new\n",
    "    return names"
   ]
  },
  {
   "cell_type": "code",
   "execution_count": 102,
   "id": "55d86071",
   "metadata": {},
   "outputs": [],
   "source": [
    "for idx in data.index:\n",
    "    data.at[idx, 'director'] = replace_spaces(idx, 'director')\n",
    "    data.at[idx, 'screenplay'] = replace_spaces(idx, 'screenplay')\n",
    "    data.at[idx, 'producer'] = replace_spaces(idx, 'producer')"
   ]
  },
  {
   "cell_type": "code",
   "execution_count": 104,
   "id": "46e7e6d5",
   "metadata": {
    "scrolled": false
   },
   "outputs": [],
   "source": [
    "for idx in data.index:\n",
    "    data.at[idx, 'info'] = ' '.join(data.at[idx, 'director']) + ' ' + ' '.join(data.at[idx, 'producer']) + ' ' + ' '.join(data.at[idx, 'screenplay']) + ' ' + ' '.join(data.at[idx, 'genres'])"
   ]
  },
  {
   "cell_type": "code",
   "execution_count": 105,
   "id": "c415d96e",
   "metadata": {},
   "outputs": [],
   "source": [
    "cv = CountVectorizer(stop_words='english')\n",
    "matrix = cv.fit_transform(data['info'])"
   ]
  },
  {
   "cell_type": "code",
   "execution_count": 106,
   "id": "6105cebb",
   "metadata": {},
   "outputs": [],
   "source": [
    "cos_sim = cosine_similarity(matrix, matrix)"
   ]
  },
  {
   "cell_type": "code",
   "execution_count": 107,
   "id": "0dc40570",
   "metadata": {},
   "outputs": [],
   "source": [
    "idxs = pd.Series(data.index, index=data['title'])"
   ]
  },
  {
   "cell_type": "code",
   "execution_count": 108,
   "id": "1a95fdbf",
   "metadata": {},
   "outputs": [],
   "source": [
    "def recommendations(title, cos_sim=cos_sim):\n",
    "    idx = idxs[title]\n",
    "    scores = list(enumerate(cos_sim[idx]))\n",
    "    scores = sorted(scores, key=lambda x: x[1], reverse=True)\n",
    "    scores = scores[1:11]\n",
    "    movie_idxs = [i[0] for i in scores]\n",
    "    return data['title'].iloc[movie_idxs]"
   ]
  },
  {
   "cell_type": "code",
   "execution_count": 111,
   "id": "07bd2305",
   "metadata": {
    "scrolled": true
   },
   "outputs": [
    {
     "data": {
      "text/plain": [
       "364         Tomorrow Never Dies\n",
       "623     The World Is Not Enough\n",
       "944             Die Another Day\n",
       "3                     GoldenEye\n",
       "1403              Casino Royale\n",
       "1630          Quantum of Solace\n",
       "2730                    Spectre\n",
       "491            A View to a Kill\n",
       "607             Licence to Kill\n",
       "765        The Living Daylights\n",
       "Name: title, dtype: object"
      ]
     },
     "execution_count": 111,
     "metadata": {},
     "output_type": "execute_result"
    }
   ],
   "source": [
    "recommendations('Skyfall')"
   ]
  },
  {
   "cell_type": "code",
   "execution_count": null,
   "id": "107bbd77",
   "metadata": {},
   "outputs": [],
   "source": []
  }
 ],
 "metadata": {
  "kernelspec": {
   "display_name": "Python 3 (ipykernel)",
   "language": "python",
   "name": "python3"
  },
  "language_info": {
   "codemirror_mode": {
    "name": "ipython",
    "version": 3
   },
   "file_extension": ".py",
   "mimetype": "text/x-python",
   "name": "python",
   "nbconvert_exporter": "python",
   "pygments_lexer": "ipython3",
   "version": "3.9.12"
  }
 },
 "nbformat": 4,
 "nbformat_minor": 5
}
