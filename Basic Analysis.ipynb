{
 "cells": [
  {
   "cell_type": "code",
   "execution_count": 4,
   "id": "0ba03d53",
   "metadata": {},
   "outputs": [],
   "source": [
    "import pandas as pd\n",
    "import numpy as np\n",
    "import matplotlib.pyplot as plt\n",
    "import seaborn as sns\n",
    "import ast\n",
    "import math"
   ]
  },
  {
   "cell_type": "code",
   "execution_count": 5,
   "id": "d545dc94",
   "metadata": {},
   "outputs": [],
   "source": [
    "data = pd.read_csv(\"./Movie_Clean.csv\")"
   ]
  },
  {
   "cell_type": "markdown",
   "id": "329f51e0",
   "metadata": {},
   "source": [
    "Top 15 Languages"
   ]
  },
  {
   "cell_type": "code",
   "execution_count": null,
   "id": "eff35ce4",
   "metadata": {},
   "outputs": [],
   "source": [
    "languages = pd.DataFrame(data['original_language'].value_counts())\n",
    "languages['language'] = languages.index\n",
    "languages.columns = ['# of films', 'language']"
   ]
  },
  {
   "cell_type": "code",
   "execution_count": null,
   "id": "24b7507b",
   "metadata": {},
   "outputs": [],
   "source": [
    "plt.figure(figsize=(15,5))\n",
    "sns.barplot(x='language', y='# of films', data=languages.iloc[0:15])\n",
    "plt.title('15 Most Popular Languages in Films')\n",
    "plt.show()"
   ]
  },
  {
   "cell_type": "markdown",
   "id": "f8e5e8cd",
   "metadata": {},
   "source": [
    "Top 15 Most Popular Languages in Films\n",
    "1. English (en)\n",
    "2. French (fr)\n",
    "3. Italian (it)\n",
    "4. Japanese (ja)\n",
    "5. German (de)\n",
    "6. Spanish (es)\n",
    "7. Russian (ru)\n",
    "8. Hindi (hi)\n",
    "9. Korean (ko)\n",
    "10. Chinese (zh)\n",
    "11. Swedish (sv)\n",
    "12. Portuguese (pt)\n",
    "13. Chinese - PRC (cn)\n",
    "14. Finnish (fi)\n",
    "15. Dutch (nl)"
   ]
  },
  {
   "cell_type": "markdown",
   "id": "ef0837ac",
   "metadata": {},
   "source": [
    "Genre Pie Chart"
   ]
  },
  {
   "cell_type": "code",
   "execution_count": null,
   "id": "90205c41",
   "metadata": {},
   "outputs": [],
   "source": [
    "genre_dict = {}\n",
    "for item in data['genres']:\n",
    "    item = ast.literal_eval(item)\n",
    "    for n in item:\n",
    "        if n in genre_dict.keys():\n",
    "           genre_dict[n] += 1\n",
    "        else: \n",
    "           genre_dict[n] = 1"
   ]
  },
  {
   "cell_type": "code",
   "execution_count": null,
   "id": "37a5305e",
   "metadata": {},
   "outputs": [],
   "source": [
    "genre_count = 0\n",
    "labels = []\n",
    "values = []\n",
    "for key, value in genre_dict.items():\n",
    "    genre_count += value\n",
    "    labels.append(key)\n",
    "    values.append(value)\n",
    "print(genre_count)"
   ]
  },
  {
   "cell_type": "markdown",
   "id": "164d28e2",
   "metadata": {},
   "source": [
    "Total number of genres = 91282 (Only 45537 rows in dataset)"
   ]
  },
  {
   "cell_type": "code",
   "execution_count": null,
   "id": "6c580c62",
   "metadata": {},
   "outputs": [],
   "source": [
    "genre_dict2 = genre_dict\n",
    "labels = []\n",
    "values = []\n",
    "for key, value in genre_dict.items():\n",
    "    labels.append(key + ': ' + str(value))\n",
    "    values.append(value)"
   ]
  },
  {
   "cell_type": "code",
   "execution_count": null,
   "id": "303bbbd2",
   "metadata": {},
   "outputs": [],
   "source": [
    "plt.figure(figsize=(5,5))\n",
    "plt.pie(values, labels=labels, autopct='%1.1f%%')\n",
    "plt.title('Movies by Genre')\n",
    "plt.show()"
   ]
  },
  {
   "cell_type": "markdown",
   "id": "68737c95",
   "metadata": {},
   "source": [
    "Runtime Chart"
   ]
  },
  {
   "cell_type": "code",
   "execution_count": 13,
   "id": "0dfbc079",
   "metadata": {},
   "outputs": [
    {
     "data": {
      "image/png": "[encoded data removed]",
      "text/plain": [
       "<Figure size 500x500 with 1 Axes>"
      ]
     },
     "metadata": {},
     "output_type": "display_data"
    }
   ],
   "source": [
    "sns.displot(data=data['runtime'], kde=True)\n",
    "plt.xlim([0, 300])\n",
    "plt.xlabel('Runtime in minutes')\n",
    "plt.ylabel('# of movies')\n",
    "plt.show()"
   ]
  },
  {
   "cell_type": "code",
   "execution_count": 11,
   "id": "d7f93cbb",
   "metadata": {},
   "outputs": [
    {
     "data": {
      "text/plain": [
       "count    45281.000000\n",
       "mean        94.127846\n",
       "std         38.395210\n",
       "min          0.000000\n",
       "25%         85.000000\n",
       "50%         95.000000\n",
       "75%        107.000000\n",
       "max       1256.000000\n",
       "Name: runtime, dtype: float64"
      ]
     },
     "execution_count": 11,
     "metadata": {},
     "output_type": "execute_result"
    }
   ],
   "source": [
    "data['runtime'].describe()"
   ]
  },
  {
   "cell_type": "markdown",
   "id": "c204c289",
   "metadata": {},
   "source": [
    "Vote Analysis"
   ]
  },
  {
   "cell_type": "code",
   "execution_count": 17,
   "id": "aefec290",
   "metadata": {},
   "outputs": [],
   "source": [
    "votes = pd.DataFrame({'vote_average': []})"
   ]
  },
  {
   "cell_type": "code",
   "execution_count": 25,
   "id": "060b29e1",
   "metadata": {},
   "outputs": [],
   "source": [
    "for idx in data.index:\n",
    "    if data.at[idx, 'vote_count'] >= 500:\n",
    "        votes.loc[len(votes.index)] = data.at[idx, 'vote_average']"
   ]
  },
  {
   "cell_type": "code",
   "execution_count": 27,
   "id": "50d60bed",
   "metadata": {},
   "outputs": [
    {
     "data": {
      "text/plain": [
       "count    3179.000000\n",
       "mean        6.675149\n",
       "std         0.774543\n",
       "min         2.300000\n",
       "25%         6.100000\n",
       "50%         6.700000\n",
       "75%         7.300000\n",
       "max         9.100000\n",
       "Name: vote_average, dtype: float64"
      ]
     },
     "execution_count": 27,
     "metadata": {},
     "output_type": "execute_result"
    }
   ],
   "source": [
    "votes['vote_average'].describe()"
   ]
  },
  {
   "cell_type": "code",
   "execution_count": 31,
   "id": "b6a4b2e1",
   "metadata": {},
   "outputs": [
    {
     "data": {
      "image/png": "[encoded data removed]",
      "text/plain": [
       "<Figure size 500x500 with 1 Axes>"
      ]
     },
     "metadata": {},
     "output_type": "display_data"
    }
   ],
   "source": [
    "sns.displot(data=votes['vote_average'], kde=True)\n",
    "avg = np.nanmean(votes['vote_average'])\n",
    "plt.axvline(x=avg, color='red', linestyle='--', linewidth=3, label='Average: ' + str(round(avg, 4)))\n",
    "plt.xlabel('Runtime in minutes')\n",
    "plt.ylabel('# of movies')\n",
    "plt.legend()\n",
    "plt.show()"
   ]
  },
  {
   "cell_type": "code",
   "execution_count": 33,
   "id": "0e05b4b9",
   "metadata": {},
   "outputs": [
    {
     "data": {
      "text/html": [
       "<div>\n",
       "<style scoped>\n",
       "    .dataframe tbody tr th:only-of-type {\n",
       "        vertical-align: middle;\n",
       "    }\n",
       "\n",
       "    .dataframe tbody tr th {\n",
       "        vertical-align: top;\n",
       "    }\n",
       "\n",
       "    .dataframe thead th {\n",
       "        text-align: right;\n",
       "    }\n",
       "</style>\n",
       "<table border=\"1\" class=\"dataframe\">\n",
       "  <thead>\n",
       "    <tr style=\"text-align: right;\">\n",
       "      <th></th>\n",
       "      <th>title</th>\n",
       "      <th>vote_count</th>\n",
       "    </tr>\n",
       "  </thead>\n",
       "  <tbody>\n",
       "    <tr>\n",
       "      <th>15545</th>\n",
       "      <td>Inception</td>\n",
       "      <td>14075.0</td>\n",
       "    </tr>\n",
       "    <tr>\n",
       "      <th>12525</th>\n",
       "      <td>The Dark Knight</td>\n",
       "      <td>12269.0</td>\n",
       "    </tr>\n",
       "    <tr>\n",
       "      <th>14617</th>\n",
       "      <td>Avatar</td>\n",
       "      <td>12114.0</td>\n",
       "    </tr>\n",
       "    <tr>\n",
       "      <th>17890</th>\n",
       "      <td>The Avengers</td>\n",
       "      <td>12000.0</td>\n",
       "    </tr>\n",
       "    <tr>\n",
       "      <th>26649</th>\n",
       "      <td>Deadpool</td>\n",
       "      <td>11444.0</td>\n",
       "    </tr>\n",
       "    <tr>\n",
       "      <th>22950</th>\n",
       "      <td>Interstellar</td>\n",
       "      <td>11187.0</td>\n",
       "    </tr>\n",
       "    <tr>\n",
       "      <th>20128</th>\n",
       "      <td>Django Unchained</td>\n",
       "      <td>10297.0</td>\n",
       "    </tr>\n",
       "    <tr>\n",
       "      <th>23822</th>\n",
       "      <td>Guardians of the Galaxy</td>\n",
       "      <td>10014.0</td>\n",
       "    </tr>\n",
       "    <tr>\n",
       "      <th>2854</th>\n",
       "      <td>Fight Club</td>\n",
       "      <td>9678.0</td>\n",
       "    </tr>\n",
       "    <tr>\n",
       "      <th>18316</th>\n",
       "      <td>The Hunger Games</td>\n",
       "      <td>9634.0</td>\n",
       "    </tr>\n",
       "  </tbody>\n",
       "</table>\n",
       "</div>"
      ],
      "text/plain": [
       "                         title  vote_count\n",
       "15545                Inception     14075.0\n",
       "12525          The Dark Knight     12269.0\n",
       "14617                   Avatar     12114.0\n",
       "17890             The Avengers     12000.0\n",
       "26649                 Deadpool     11444.0\n",
       "22950             Interstellar     11187.0\n",
       "20128         Django Unchained     10297.0\n",
       "23822  Guardians of the Galaxy     10014.0\n",
       "2854                Fight Club      9678.0\n",
       "18316         The Hunger Games      9634.0"
      ]
     },
     "execution_count": 33,
     "metadata": {},
     "output_type": "execute_result"
    }
   ],
   "source": [
    "data[['title', 'vote_count']].sort_values('vote_count', ascending=False).head(10)"
   ]
  },
  {
   "cell_type": "code",
   "execution_count": null,
   "id": "bd82a88f",
   "metadata": {},
   "outputs": [],
   "source": []
  }
 ],
 "metadata": {
  "kernelspec": {
   "display_name": "Python 3 (ipykernel)",
   "language": "python",
   "name": "python3"
  },
  "language_info": {
   "codemirror_mode": {
    "name": "ipython",
    "version": 3
   },
   "file_extension": ".py",
   "mimetype": "text/x-python",
   "name": "python",
   "nbconvert_exporter": "python",
   "pygments_lexer": "ipython3",
   "version": "3.9.12"
  }
 },
 "nbformat": 4,
 "nbformat_minor": 5
}
